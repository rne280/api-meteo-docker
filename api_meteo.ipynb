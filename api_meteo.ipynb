{
 "cells": [
  {
   "cell_type": "code",
   "execution_count": 2,
   "id": "ff592273-8269-497f-8081-626e02479d72",
   "metadata": {},
   "outputs": [
    {
     "name": "stdout",
     "output_type": "stream",
     "text": [
      "✅ La temperatura media en Palma es: 13.10°C\n"
     ]
    }
   ],
   "source": [
    "import requests\n",
    "import pandas as pd\n",
    "\n",
    "#Definimos la URL de la API y los parámetros\n",
    "url = \"https://api.open-meteo.com/v1/forecast\"\n",
    "params = {\n",
    "    \"latitude\": 39.56939,  # Palma de Mallorca\n",
    "    \"longitude\": 2.65024,\n",
    "    \"hourly\": \"temperature_2m\"\n",
    "}\n",
    "\n",
    "#Hacemos la solicitud GET a la API\n",
    "response = requests.get(url, params=params)\n",
    "\n",
    "#Verificamos si la solicitud fue exitosa\n",
    "if response.status_code == 200:\n",
    "    data = response.json()  # Convertir la respuesta a JSON\n",
    "\n",
    "    temperatures = data[\"hourly\"][\"temperature_2m\"]  # Extraer las temperaturas horaria\n",
    "    avg_temp = sum(temperatures) / len(temperatures) # Calcular la temperatura media\n",
    "    \n",
    "    print(f\"✅ La temperatura media en Palma es: {avg_temp:.2f}°C\")\n",
    "else:\n",
    "    print(f\"❌ Error en la solicitud: {response.status_code}\")\n"
   ]
  },
  {
   "cell_type": "code",
   "execution_count": null,
   "id": "a6458f4f-cf98-40ed-b721-61b7c0e1f580",
   "metadata": {},
   "outputs": [],
   "source": []
  }
 ],
 "metadata": {
  "kernelspec": {
   "display_name": "Python 3 (ipykernel)",
   "language": "python",
   "name": "python3"
  },
  "language_info": {
   "codemirror_mode": {
    "name": "ipython",
    "version": 3
   },
   "file_extension": ".py",
   "mimetype": "text/x-python",
   "name": "python",
   "nbconvert_exporter": "python",
   "pygments_lexer": "ipython3",
   "version": "3.13.0"
  }
 },
 "nbformat": 4,
 "nbformat_minor": 5
}
